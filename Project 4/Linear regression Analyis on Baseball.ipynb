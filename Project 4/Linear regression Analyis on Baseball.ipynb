{
 "cells": [
  {
   "cell_type": "markdown",
   "id": "dd374f5f-3024-4d13-815b-f58fa9d82321",
   "metadata": {},
   "source": [
    "# Assignment 2 Playing Moneyball\n",
    "\n",
    "This assignment is based on a story of Moneyball, a book by Michael Lewis in 2003 and a movie in 2011 starring Brad Pitt. Moneyball discusses how sports analytics changed baseball. "
   ]
  },
  {
   "cell_type": "code",
   "execution_count": 1,
   "id": "8af0b0da-19b0-434f-9c1f-16e7e7b276c5",
   "metadata": {},
   "outputs": [],
   "source": [
    "# import packages\n",
    "import pandas as pd\n",
    "import numpy as np\n",
    "import statsmodels.api as sm\n",
    "import matplotlib.pyplot as plt"
   ]
  },
  {
   "cell_type": "markdown",
   "id": "d240e6bf-12a3-4d06-af44-df633a593182",
   "metadata": {},
   "source": [
    "**Q1.** Read data from `baseball.csv` and store the data in a data frame named `df`. "
   ]
  },
  {
   "cell_type": "code",
   "execution_count": 2,
   "id": "166971c5-7494-4888-b135-243ec3ca8cc4",
   "metadata": {},
   "outputs": [
    {
     "data": {
      "text/html": [
       "<div>\n",
       "<style scoped>\n",
       "    .dataframe tbody tr th:only-of-type {\n",
       "        vertical-align: middle;\n",
       "    }\n",
       "\n",
       "    .dataframe tbody tr th {\n",
       "        vertical-align: top;\n",
       "    }\n",
       "\n",
       "    .dataframe thead th {\n",
       "        text-align: right;\n",
       "    }\n",
       "</style>\n",
       "<table border=\"1\" class=\"dataframe\">\n",
       "  <thead>\n",
       "    <tr style=\"text-align: right;\">\n",
       "      <th></th>\n",
       "      <th>Team</th>\n",
       "      <th>League</th>\n",
       "      <th>Year</th>\n",
       "      <th>RS</th>\n",
       "      <th>RA</th>\n",
       "      <th>W</th>\n",
       "      <th>OBP</th>\n",
       "      <th>SLG</th>\n",
       "      <th>BA</th>\n",
       "      <th>Playoffs</th>\n",
       "      <th>RankSeason</th>\n",
       "      <th>RankPlayoffs</th>\n",
       "      <th>G</th>\n",
       "      <th>OOBP</th>\n",
       "      <th>OSLG</th>\n",
       "    </tr>\n",
       "  </thead>\n",
       "  <tbody>\n",
       "    <tr>\n",
       "      <th>0</th>\n",
       "      <td>ARI</td>\n",
       "      <td>NL</td>\n",
       "      <td>2012</td>\n",
       "      <td>734</td>\n",
       "      <td>688</td>\n",
       "      <td>81</td>\n",
       "      <td>0.328</td>\n",
       "      <td>0.418</td>\n",
       "      <td>0.259</td>\n",
       "      <td>0</td>\n",
       "      <td>NaN</td>\n",
       "      <td>NaN</td>\n",
       "      <td>162</td>\n",
       "      <td>0.317</td>\n",
       "      <td>0.415</td>\n",
       "    </tr>\n",
       "    <tr>\n",
       "      <th>1</th>\n",
       "      <td>ATL</td>\n",
       "      <td>NL</td>\n",
       "      <td>2012</td>\n",
       "      <td>700</td>\n",
       "      <td>600</td>\n",
       "      <td>94</td>\n",
       "      <td>0.320</td>\n",
       "      <td>0.389</td>\n",
       "      <td>0.247</td>\n",
       "      <td>1</td>\n",
       "      <td>4.0</td>\n",
       "      <td>5.0</td>\n",
       "      <td>162</td>\n",
       "      <td>0.306</td>\n",
       "      <td>0.378</td>\n",
       "    </tr>\n",
       "    <tr>\n",
       "      <th>2</th>\n",
       "      <td>BAL</td>\n",
       "      <td>AL</td>\n",
       "      <td>2012</td>\n",
       "      <td>712</td>\n",
       "      <td>705</td>\n",
       "      <td>93</td>\n",
       "      <td>0.311</td>\n",
       "      <td>0.417</td>\n",
       "      <td>0.247</td>\n",
       "      <td>1</td>\n",
       "      <td>5.0</td>\n",
       "      <td>4.0</td>\n",
       "      <td>162</td>\n",
       "      <td>0.315</td>\n",
       "      <td>0.403</td>\n",
       "    </tr>\n",
       "    <tr>\n",
       "      <th>3</th>\n",
       "      <td>BOS</td>\n",
       "      <td>AL</td>\n",
       "      <td>2012</td>\n",
       "      <td>734</td>\n",
       "      <td>806</td>\n",
       "      <td>69</td>\n",
       "      <td>0.315</td>\n",
       "      <td>0.415</td>\n",
       "      <td>0.260</td>\n",
       "      <td>0</td>\n",
       "      <td>NaN</td>\n",
       "      <td>NaN</td>\n",
       "      <td>162</td>\n",
       "      <td>0.331</td>\n",
       "      <td>0.428</td>\n",
       "    </tr>\n",
       "    <tr>\n",
       "      <th>4</th>\n",
       "      <td>CHC</td>\n",
       "      <td>NL</td>\n",
       "      <td>2012</td>\n",
       "      <td>613</td>\n",
       "      <td>759</td>\n",
       "      <td>61</td>\n",
       "      <td>0.302</td>\n",
       "      <td>0.378</td>\n",
       "      <td>0.240</td>\n",
       "      <td>0</td>\n",
       "      <td>NaN</td>\n",
       "      <td>NaN</td>\n",
       "      <td>162</td>\n",
       "      <td>0.335</td>\n",
       "      <td>0.424</td>\n",
       "    </tr>\n",
       "  </tbody>\n",
       "</table>\n",
       "</div>"
      ],
      "text/plain": [
       "  Team League  Year   RS   RA   W    OBP    SLG     BA  Playoffs  RankSeason  \\\n",
       "0  ARI     NL  2012  734  688  81  0.328  0.418  0.259         0         NaN   \n",
       "1  ATL     NL  2012  700  600  94  0.320  0.389  0.247         1         4.0   \n",
       "2  BAL     AL  2012  712  705  93  0.311  0.417  0.247         1         5.0   \n",
       "3  BOS     AL  2012  734  806  69  0.315  0.415  0.260         0         NaN   \n",
       "4  CHC     NL  2012  613  759  61  0.302  0.378  0.240         0         NaN   \n",
       "\n",
       "   RankPlayoffs    G   OOBP   OSLG  \n",
       "0           NaN  162  0.317  0.415  \n",
       "1           5.0  162  0.306  0.378  \n",
       "2           4.0  162  0.315  0.403  \n",
       "3           NaN  162  0.331  0.428  \n",
       "4           NaN  162  0.335  0.424  "
      ]
     },
     "execution_count": 2,
     "metadata": {},
     "output_type": "execute_result"
    }
   ],
   "source": [
    "import pandas as pd\n",
    "\n",
    "# Read the CSV file and assign it to df\n",
    "df = pd.read_csv('baseball (3).csv')\n",
    "\n",
    "# Display the first few rows to check\n",
    "df.head()\n",
    "\n"
   ]
  },
  {
   "cell_type": "markdown",
   "id": "0fb735cf-b3d6-4e62-91d3-1c00de98a802",
   "metadata": {},
   "source": [
    "The dataset contains team statistics between 1962 and 2012 such as RS (Runs Scored), RA (Runs Allowed), W (Number of Wins), OBP (On-base Percentage), SLG (Slugging Percentage), BA (Batting Average), G (Number of Games), OOBP (Opponents OBP) and OSLG (Opponents SLG)."
   ]
  },
  {
   "cell_type": "markdown",
   "id": "8607ab54-2e76-44c2-b551-e7577ecf3c07",
   "metadata": {},
   "source": [
    "Rich teams such as the Yankees and the Red Sox can afford all-star players. But how do poor teams compete? Moneyball tells the story of the Oakland A's.\n",
    "\n",
    "The A's (standard abbreviation OAK) is a team near San Francisco, California that increased the number of wins continuously from 1997 to 2002 and made the playoffs every year from 2000 to 2003 with a very low payroll. They used an analytical approach to select undervalued players and form an efficient team. "
   ]
  },
  {
   "cell_type": "markdown",
   "id": "ecca4eb7-32c0-4c5f-bfa1-47b20ca01e03",
   "metadata": {},
   "source": [
    "The following code displays the A's seasonal team statistics between 1997 and 2004. "
   ]
  },
  {
   "cell_type": "code",
   "execution_count": 3,
   "id": "488842e9-e9b8-425a-8022-dd461ee88d14",
   "metadata": {},
   "outputs": [
    {
     "data": {
      "text/html": [
       "<div>\n",
       "<style scoped>\n",
       "    .dataframe tbody tr th:only-of-type {\n",
       "        vertical-align: middle;\n",
       "    }\n",
       "\n",
       "    .dataframe tbody tr th {\n",
       "        vertical-align: top;\n",
       "    }\n",
       "\n",
       "    .dataframe thead th {\n",
       "        text-align: right;\n",
       "    }\n",
       "</style>\n",
       "<table border=\"1\" class=\"dataframe\">\n",
       "  <thead>\n",
       "    <tr style=\"text-align: right;\">\n",
       "      <th></th>\n",
       "      <th>Team</th>\n",
       "      <th>Year</th>\n",
       "      <th>W</th>\n",
       "      <th>Playoffs</th>\n",
       "      <th>RS</th>\n",
       "      <th>RA</th>\n",
       "      <th>OBP</th>\n",
       "      <th>SLG</th>\n",
       "      <th>OOBP</th>\n",
       "      <th>OSLG</th>\n",
       "    </tr>\n",
       "  </thead>\n",
       "  <tbody>\n",
       "    <tr>\n",
       "      <th>469</th>\n",
       "      <td>OAK</td>\n",
       "      <td>1997</td>\n",
       "      <td>65</td>\n",
       "      <td>0</td>\n",
       "      <td>764</td>\n",
       "      <td>946</td>\n",
       "      <td>0.339</td>\n",
       "      <td>0.423</td>\n",
       "      <td>NaN</td>\n",
       "      <td>NaN</td>\n",
       "    </tr>\n",
       "    <tr>\n",
       "      <th>440</th>\n",
       "      <td>OAK</td>\n",
       "      <td>1998</td>\n",
       "      <td>74</td>\n",
       "      <td>0</td>\n",
       "      <td>804</td>\n",
       "      <td>866</td>\n",
       "      <td>0.338</td>\n",
       "      <td>0.397</td>\n",
       "      <td>NaN</td>\n",
       "      <td>NaN</td>\n",
       "    </tr>\n",
       "    <tr>\n",
       "      <th>410</th>\n",
       "      <td>OAK</td>\n",
       "      <td>1999</td>\n",
       "      <td>87</td>\n",
       "      <td>0</td>\n",
       "      <td>893</td>\n",
       "      <td>846</td>\n",
       "      <td>0.355</td>\n",
       "      <td>0.446</td>\n",
       "      <td>0.344</td>\n",
       "      <td>0.428</td>\n",
       "    </tr>\n",
       "    <tr>\n",
       "      <th>380</th>\n",
       "      <td>OAK</td>\n",
       "      <td>2000</td>\n",
       "      <td>91</td>\n",
       "      <td>1</td>\n",
       "      <td>947</td>\n",
       "      <td>813</td>\n",
       "      <td>0.360</td>\n",
       "      <td>0.458</td>\n",
       "      <td>0.348</td>\n",
       "      <td>0.423</td>\n",
       "    </tr>\n",
       "    <tr>\n",
       "      <th>350</th>\n",
       "      <td>OAK</td>\n",
       "      <td>2001</td>\n",
       "      <td>102</td>\n",
       "      <td>1</td>\n",
       "      <td>884</td>\n",
       "      <td>645</td>\n",
       "      <td>0.345</td>\n",
       "      <td>0.439</td>\n",
       "      <td>0.308</td>\n",
       "      <td>0.380</td>\n",
       "    </tr>\n",
       "    <tr>\n",
       "      <th>320</th>\n",
       "      <td>OAK</td>\n",
       "      <td>2002</td>\n",
       "      <td>103</td>\n",
       "      <td>1</td>\n",
       "      <td>800</td>\n",
       "      <td>654</td>\n",
       "      <td>0.339</td>\n",
       "      <td>0.432</td>\n",
       "      <td>0.315</td>\n",
       "      <td>0.384</td>\n",
       "    </tr>\n",
       "    <tr>\n",
       "      <th>290</th>\n",
       "      <td>OAK</td>\n",
       "      <td>2003</td>\n",
       "      <td>96</td>\n",
       "      <td>1</td>\n",
       "      <td>768</td>\n",
       "      <td>643</td>\n",
       "      <td>0.327</td>\n",
       "      <td>0.417</td>\n",
       "      <td>0.314</td>\n",
       "      <td>0.376</td>\n",
       "    </tr>\n",
       "    <tr>\n",
       "      <th>260</th>\n",
       "      <td>OAK</td>\n",
       "      <td>2004</td>\n",
       "      <td>91</td>\n",
       "      <td>0</td>\n",
       "      <td>793</td>\n",
       "      <td>742</td>\n",
       "      <td>0.343</td>\n",
       "      <td>0.433</td>\n",
       "      <td>0.332</td>\n",
       "      <td>0.409</td>\n",
       "    </tr>\n",
       "  </tbody>\n",
       "</table>\n",
       "</div>"
      ],
      "text/plain": [
       "    Team  Year    W  Playoffs   RS   RA    OBP    SLG   OOBP   OSLG\n",
       "469  OAK  1997   65         0  764  946  0.339  0.423    NaN    NaN\n",
       "440  OAK  1998   74         0  804  866  0.338  0.397    NaN    NaN\n",
       "410  OAK  1999   87         0  893  846  0.355  0.446  0.344  0.428\n",
       "380  OAK  2000   91         1  947  813  0.360  0.458  0.348  0.423\n",
       "350  OAK  2001  102         1  884  645  0.345  0.439  0.308  0.380\n",
       "320  OAK  2002  103         1  800  654  0.339  0.432  0.315  0.384\n",
       "290  OAK  2003   96         1  768  643  0.327  0.417  0.314  0.376\n",
       "260  OAK  2004   91         0  793  742  0.343  0.433  0.332  0.409"
      ]
     },
     "execution_count": 3,
     "metadata": {},
     "output_type": "execute_result"
    }
   ],
   "source": [
    "df.loc[(df[\"Team\"] == \"OAK\")&(df[\"Year\"].isin([1997, 1998, 1999, 2000, 2001, 2002, 2003, 2004])), \n",
    "[\"Team\",\"Year\", \"W\", \"Playoffs\", \"RS\", \"RA\", \"OBP\", \"SLG\", \"OOBP\", \"OSLG\"]].sort_values(\"Year\")"
   ]
  },
  {
   "cell_type": "markdown",
   "id": "2c6d2ca2-2a22-40ab-8fcb-018a512d2bc3",
   "metadata": {},
   "source": [
    "## Making It to the Playoffs\n",
    "\n",
    "The A's approach was to get to the playoffs by using analytics. Assume that a team will make the playoffs by winning at least *95* games in the regular season. We'll use linear regression to predict how many games a team will win using the difference between runs scored and runs allowed. We'll then use linear regression again\n",
    "to predict the number of runs a team will score\n",
    "using batting statistics, and the number of\n",
    "runs a team will allow using fielding and pitching\n",
    "statistics."
   ]
  },
  {
   "cell_type": "markdown",
   "id": "a02cca03-0ab1-4f59-bae9-7924629f8c3d",
   "metadata": {},
   "source": [
    "The following code subsets the data to include only years before 2002 and creates a new column called run difference `RD`=`RS`-`RA`, which is the difference between runs scored and runs allowed. "
   ]
  },
  {
   "cell_type": "code",
   "execution_count": 4,
   "id": "75fb51a3-5505-43dd-b2ad-6c541e5f9d5e",
   "metadata": {},
   "outputs": [
    {
     "data": {
      "text/html": [
       "<div>\n",
       "<style scoped>\n",
       "    .dataframe tbody tr th:only-of-type {\n",
       "        vertical-align: middle;\n",
       "    }\n",
       "\n",
       "    .dataframe tbody tr th {\n",
       "        vertical-align: top;\n",
       "    }\n",
       "\n",
       "    .dataframe thead th {\n",
       "        text-align: right;\n",
       "    }\n",
       "</style>\n",
       "<table border=\"1\" class=\"dataframe\">\n",
       "  <thead>\n",
       "    <tr style=\"text-align: right;\">\n",
       "      <th></th>\n",
       "      <th>Team</th>\n",
       "      <th>League</th>\n",
       "      <th>Year</th>\n",
       "      <th>RS</th>\n",
       "      <th>RA</th>\n",
       "      <th>W</th>\n",
       "      <th>OBP</th>\n",
       "      <th>SLG</th>\n",
       "      <th>BA</th>\n",
       "      <th>Playoffs</th>\n",
       "      <th>RankSeason</th>\n",
       "      <th>RankPlayoffs</th>\n",
       "      <th>G</th>\n",
       "      <th>OOBP</th>\n",
       "      <th>OSLG</th>\n",
       "      <th>RD</th>\n",
       "    </tr>\n",
       "  </thead>\n",
       "  <tbody>\n",
       "    <tr>\n",
       "      <th>330</th>\n",
       "      <td>ANA</td>\n",
       "      <td>AL</td>\n",
       "      <td>2001</td>\n",
       "      <td>691</td>\n",
       "      <td>730</td>\n",
       "      <td>75</td>\n",
       "      <td>0.327</td>\n",
       "      <td>0.405</td>\n",
       "      <td>0.261</td>\n",
       "      <td>0</td>\n",
       "      <td>NaN</td>\n",
       "      <td>NaN</td>\n",
       "      <td>162</td>\n",
       "      <td>0.331</td>\n",
       "      <td>0.412</td>\n",
       "      <td>-39</td>\n",
       "    </tr>\n",
       "    <tr>\n",
       "      <th>331</th>\n",
       "      <td>ARI</td>\n",
       "      <td>NL</td>\n",
       "      <td>2001</td>\n",
       "      <td>818</td>\n",
       "      <td>677</td>\n",
       "      <td>92</td>\n",
       "      <td>0.341</td>\n",
       "      <td>0.442</td>\n",
       "      <td>0.267</td>\n",
       "      <td>1</td>\n",
       "      <td>5.0</td>\n",
       "      <td>1.0</td>\n",
       "      <td>162</td>\n",
       "      <td>0.311</td>\n",
       "      <td>0.404</td>\n",
       "      <td>141</td>\n",
       "    </tr>\n",
       "    <tr>\n",
       "      <th>332</th>\n",
       "      <td>ATL</td>\n",
       "      <td>NL</td>\n",
       "      <td>2001</td>\n",
       "      <td>729</td>\n",
       "      <td>643</td>\n",
       "      <td>88</td>\n",
       "      <td>0.324</td>\n",
       "      <td>0.412</td>\n",
       "      <td>0.260</td>\n",
       "      <td>1</td>\n",
       "      <td>7.0</td>\n",
       "      <td>3.0</td>\n",
       "      <td>162</td>\n",
       "      <td>0.314</td>\n",
       "      <td>0.384</td>\n",
       "      <td>86</td>\n",
       "    </tr>\n",
       "    <tr>\n",
       "      <th>333</th>\n",
       "      <td>BAL</td>\n",
       "      <td>AL</td>\n",
       "      <td>2001</td>\n",
       "      <td>687</td>\n",
       "      <td>829</td>\n",
       "      <td>63</td>\n",
       "      <td>0.319</td>\n",
       "      <td>0.380</td>\n",
       "      <td>0.248</td>\n",
       "      <td>0</td>\n",
       "      <td>NaN</td>\n",
       "      <td>NaN</td>\n",
       "      <td>162</td>\n",
       "      <td>0.337</td>\n",
       "      <td>0.439</td>\n",
       "      <td>-142</td>\n",
       "    </tr>\n",
       "    <tr>\n",
       "      <th>334</th>\n",
       "      <td>BOS</td>\n",
       "      <td>AL</td>\n",
       "      <td>2001</td>\n",
       "      <td>772</td>\n",
       "      <td>745</td>\n",
       "      <td>82</td>\n",
       "      <td>0.334</td>\n",
       "      <td>0.439</td>\n",
       "      <td>0.266</td>\n",
       "      <td>0</td>\n",
       "      <td>NaN</td>\n",
       "      <td>NaN</td>\n",
       "      <td>161</td>\n",
       "      <td>0.329</td>\n",
       "      <td>0.393</td>\n",
       "      <td>27</td>\n",
       "    </tr>\n",
       "    <tr>\n",
       "      <th>...</th>\n",
       "      <td>...</td>\n",
       "      <td>...</td>\n",
       "      <td>...</td>\n",
       "      <td>...</td>\n",
       "      <td>...</td>\n",
       "      <td>...</td>\n",
       "      <td>...</td>\n",
       "      <td>...</td>\n",
       "      <td>...</td>\n",
       "      <td>...</td>\n",
       "      <td>...</td>\n",
       "      <td>...</td>\n",
       "      <td>...</td>\n",
       "      <td>...</td>\n",
       "      <td>...</td>\n",
       "      <td>...</td>\n",
       "    </tr>\n",
       "    <tr>\n",
       "      <th>1227</th>\n",
       "      <td>PHI</td>\n",
       "      <td>NL</td>\n",
       "      <td>1962</td>\n",
       "      <td>705</td>\n",
       "      <td>759</td>\n",
       "      <td>81</td>\n",
       "      <td>0.330</td>\n",
       "      <td>0.390</td>\n",
       "      <td>0.260</td>\n",
       "      <td>0</td>\n",
       "      <td>NaN</td>\n",
       "      <td>NaN</td>\n",
       "      <td>161</td>\n",
       "      <td>NaN</td>\n",
       "      <td>NaN</td>\n",
       "      <td>-54</td>\n",
       "    </tr>\n",
       "    <tr>\n",
       "      <th>1228</th>\n",
       "      <td>PIT</td>\n",
       "      <td>NL</td>\n",
       "      <td>1962</td>\n",
       "      <td>706</td>\n",
       "      <td>626</td>\n",
       "      <td>93</td>\n",
       "      <td>0.321</td>\n",
       "      <td>0.394</td>\n",
       "      <td>0.268</td>\n",
       "      <td>0</td>\n",
       "      <td>NaN</td>\n",
       "      <td>NaN</td>\n",
       "      <td>161</td>\n",
       "      <td>NaN</td>\n",
       "      <td>NaN</td>\n",
       "      <td>80</td>\n",
       "    </tr>\n",
       "    <tr>\n",
       "      <th>1229</th>\n",
       "      <td>SFG</td>\n",
       "      <td>NL</td>\n",
       "      <td>1962</td>\n",
       "      <td>878</td>\n",
       "      <td>690</td>\n",
       "      <td>103</td>\n",
       "      <td>0.341</td>\n",
       "      <td>0.441</td>\n",
       "      <td>0.278</td>\n",
       "      <td>1</td>\n",
       "      <td>1.0</td>\n",
       "      <td>2.0</td>\n",
       "      <td>165</td>\n",
       "      <td>NaN</td>\n",
       "      <td>NaN</td>\n",
       "      <td>188</td>\n",
       "    </tr>\n",
       "    <tr>\n",
       "      <th>1230</th>\n",
       "      <td>STL</td>\n",
       "      <td>NL</td>\n",
       "      <td>1962</td>\n",
       "      <td>774</td>\n",
       "      <td>664</td>\n",
       "      <td>84</td>\n",
       "      <td>0.335</td>\n",
       "      <td>0.394</td>\n",
       "      <td>0.271</td>\n",
       "      <td>0</td>\n",
       "      <td>NaN</td>\n",
       "      <td>NaN</td>\n",
       "      <td>163</td>\n",
       "      <td>NaN</td>\n",
       "      <td>NaN</td>\n",
       "      <td>110</td>\n",
       "    </tr>\n",
       "    <tr>\n",
       "      <th>1231</th>\n",
       "      <td>WSA</td>\n",
       "      <td>AL</td>\n",
       "      <td>1962</td>\n",
       "      <td>599</td>\n",
       "      <td>716</td>\n",
       "      <td>60</td>\n",
       "      <td>0.308</td>\n",
       "      <td>0.373</td>\n",
       "      <td>0.250</td>\n",
       "      <td>0</td>\n",
       "      <td>NaN</td>\n",
       "      <td>NaN</td>\n",
       "      <td>162</td>\n",
       "      <td>NaN</td>\n",
       "      <td>NaN</td>\n",
       "      <td>-117</td>\n",
       "    </tr>\n",
       "  </tbody>\n",
       "</table>\n",
       "<p>902 rows × 16 columns</p>\n",
       "</div>"
      ],
      "text/plain": [
       "     Team League  Year   RS   RA    W    OBP    SLG     BA  Playoffs  \\\n",
       "330   ANA     AL  2001  691  730   75  0.327  0.405  0.261         0   \n",
       "331   ARI     NL  2001  818  677   92  0.341  0.442  0.267         1   \n",
       "332   ATL     NL  2001  729  643   88  0.324  0.412  0.260         1   \n",
       "333   BAL     AL  2001  687  829   63  0.319  0.380  0.248         0   \n",
       "334   BOS     AL  2001  772  745   82  0.334  0.439  0.266         0   \n",
       "...   ...    ...   ...  ...  ...  ...    ...    ...    ...       ...   \n",
       "1227  PHI     NL  1962  705  759   81  0.330  0.390  0.260         0   \n",
       "1228  PIT     NL  1962  706  626   93  0.321  0.394  0.268         0   \n",
       "1229  SFG     NL  1962  878  690  103  0.341  0.441  0.278         1   \n",
       "1230  STL     NL  1962  774  664   84  0.335  0.394  0.271         0   \n",
       "1231  WSA     AL  1962  599  716   60  0.308  0.373  0.250         0   \n",
       "\n",
       "      RankSeason  RankPlayoffs    G   OOBP   OSLG   RD  \n",
       "330          NaN           NaN  162  0.331  0.412  -39  \n",
       "331          5.0           1.0  162  0.311  0.404  141  \n",
       "332          7.0           3.0  162  0.314  0.384   86  \n",
       "333          NaN           NaN  162  0.337  0.439 -142  \n",
       "334          NaN           NaN  161  0.329  0.393   27  \n",
       "...          ...           ...  ...    ...    ...  ...  \n",
       "1227         NaN           NaN  161    NaN    NaN  -54  \n",
       "1228         NaN           NaN  161    NaN    NaN   80  \n",
       "1229         1.0           2.0  165    NaN    NaN  188  \n",
       "1230         NaN           NaN  163    NaN    NaN  110  \n",
       "1231         NaN           NaN  162    NaN    NaN -117  \n",
       "\n",
       "[902 rows x 16 columns]"
      ]
     },
     "execution_count": 4,
     "metadata": {},
     "output_type": "execute_result"
    }
   ],
   "source": [
    "df_before_2002 = df[df[\"Year\"] < 2002].copy()\n",
    "df_before_2002[\"RD\"] = df_before_2002[\"RS\"] - df_before_2002[\"RA\"]\n",
    "df_before_2002"
   ]
  },
  {
   "cell_type": "markdown",
   "id": "7842d1c6-13a4-49ee-b0ca-83ecc865cb42",
   "metadata": {},
   "source": [
    "### Predicting Wins"
   ]
  },
  {
   "cell_type": "markdown",
   "id": "2cfe118b-4b67-4a96-8574-e3da7f14b991",
   "metadata": {},
   "source": [
    "**Q2** Use the number of wins (on the y-axis) and run difference (on the x-axis) data in `df_before_2002` to create a scatter plot."
   ]
  },
  {
   "cell_type": "code",
   "execution_count": 5,
   "id": "344bea85-f29e-41a1-ba3d-572f890e2363",
   "metadata": {},
   "outputs": [
    {
     "data": {
      "image/png": "[encoded data removed]",
      "text/plain": [
       "<Figure size 800x600 with 1 Axes>"
      ]
     },
     "metadata": {},
     "output_type": "display_data"
    }
   ],
   "source": [
    "import matplotlib.pyplot as plt\n",
    "\n",
    "# Scatter plot of Wins vs Run Difference\n",
    "plt.figure(figsize=(8,6))\n",
    "plt.scatter(df_before_2002['RD'], df_before_2002['W'], color='blue')\n",
    "plt.title('Wins vs Run Difference (Before 2002)')\n",
    "plt.xlabel('Run Difference (RD)')\n",
    "plt.ylabel('Wins (W)')\n",
    "plt.grid(True)\n",
    "plt.show()\n",
    "\n"
   ]
  },
  {
   "cell_type": "markdown",
   "id": "f3c2b6a0-493b-4555-b900-5d46665d57c0",
   "metadata": {},
   "source": [
    "**Q3** It is easy to see from the scatter plot above that these two variables have a linear association.  Use the data in `df_before_2002` to train a simple linear regression model, where the number of wins is the target and the run difference is the predictor. Display the summary output.  "
   ]
  },
  {
   "cell_type": "code",
   "execution_count": 6,
   "id": "b038f58d-ef25-4623-8e8b-6c60a19efa22",
   "metadata": {},
   "outputs": [
    {
     "name": "stdout",
     "output_type": "stream",
     "text": [
      "                            OLS Regression Results                            \n",
      "==============================================================================\n",
      "Dep. Variable:                      W   R-squared:                       0.881\n",
      "Model:                            OLS   Adj. R-squared:                  0.881\n",
      "Method:                 Least Squares   F-statistic:                     6651.\n",
      "Date:                Fri, 17 Oct 2025   Prob (F-statistic):               0.00\n",
      "Time:                        16:47:52   Log-Likelihood:                -2515.5\n",
      "No. Observations:                 902   AIC:                             5035.\n",
      "Df Residuals:                     900   BIC:                             5045.\n",
      "Df Model:                           1                                         \n",
      "Covariance Type:            nonrobust                                         \n",
      "==============================================================================\n",
      "                 coef    std err          t      P>|t|      [0.025      0.975]\n",
      "------------------------------------------------------------------------------\n",
      "const         80.8814      0.131    616.675      0.000      80.624      81.139\n",
      "RD             0.1058      0.001     81.554      0.000       0.103       0.108\n",
      "==============================================================================\n",
      "Omnibus:                        5.788   Durbin-Watson:                   2.076\n",
      "Prob(Omnibus):                  0.055   Jarque-Bera (JB):                5.736\n",
      "Skew:                          -0.195   Prob(JB):                       0.0568\n",
      "Kurtosis:                       3.033   Cond. No.                         101.\n",
      "==============================================================================\n",
      "\n",
      "Notes:\n",
      "[1] Standard Errors assume that the covariance matrix of the errors is correctly specified.\n"
     ]
    }
   ],
   "source": [
    "import statsmodels.api as sm\n",
    "\n",
    "# Predictor (X) and target (y)\n",
    "X = df_before_2002['RD']\n",
    "y = df_before_2002['W']\n",
    "\n",
    "# Add a constant term for the intercept\n",
    "X = sm.add_constant(X)\n",
    "\n",
    "# Fit the linear regression model\n",
    "model = sm.OLS(y, X).fit()\n",
    "\n",
    "# Display the summary output\n",
    "print(model.summary())\n",
    "\n"
   ]
  },
  {
   "cell_type": "markdown",
   "id": "22df7d6a-af7c-471f-ba08-390bfa568e17",
   "metadata": {},
   "source": [
    "**Q4** Note that the simple linear regression model can be written as $\\hat{W}=80.8814+0.1058\\times (RS-RD)$. Compute the run difference needed to win 95 games."
   ]
  },
  {
   "cell_type": "code",
   "execution_count": 7,
   "id": "0a32286d-62ad-43ea-b629-117f9e4496f1",
   "metadata": {},
   "outputs": [
    {
     "name": "stdout",
     "output_type": "stream",
     "text": [
      "Run Difference needed to win 95 games: 133.45\n"
     ]
    }
   ],
   "source": [
    "# Regression coefficients from the model\n",
    "intercept = 80.8814\n",
    "slope = 0.1058\n",
    "\n",
    "# Target wins\n",
    "target_wins = 95\n",
    "\n",
    "# Compute the required Run Difference (RD)\n",
    "required_RD = (target_wins - intercept) / slope\n",
    "\n",
    "print(f\"Run Difference needed to win {target_wins} games: {required_RD:.2f}\")\n"
   ]
  },
  {
   "cell_type": "markdown",
   "id": "dd11f48b-1122-41b9-8129-cfcfad9acbce",
   "metadata": {},
   "source": [
    "**Q5** If a baseball team scores 745 runs and allows 701 runs, how many games do we expect the team to win?"
   ]
  },
  {
   "cell_type": "code",
   "execution_count": 8,
   "id": "bb624c7e-5bef-4f09-b245-12d0b50d304a",
   "metadata": {},
   "outputs": [
    {
     "name": "stdout",
     "output_type": "stream",
     "text": [
      "Expected Wins: 85.54\n"
     ]
    }
   ],
   "source": [
    "# Given runs scored and allowed\n",
    "RS = 745\n",
    "RA = 701\n",
    "\n",
    "# Compute run difference\n",
    "RD = RS - RA\n",
    "\n",
    "# Predict wins using regression equation\n",
    "predicted_wins = intercept + slope * RD\n",
    "print(f\"Expected Wins: {predicted_wins:.2f}\")\n"
   ]
  },
  {
   "cell_type": "markdown",
   "id": "1b9a9b07-d52c-4397-a45a-3eaa716e9349",
   "metadata": {},
   "source": [
    "### Predicting Runs"
   ]
  },
  {
   "cell_type": "markdown",
   "id": "ecb0b0fb-d2c6-4c60-9330-d408b84490a5",
   "metadata": {},
   "source": [
    "The Oakland A's claimed that on-base percentage (OBP) and slugging percentage (SLG) were the most important statistics for predicting runs. "
   ]
  },
  {
   "cell_type": "markdown",
   "id": "b9a4538e-de04-4a82-a3e0-2e9727c4b551",
   "metadata": {},
   "source": [
    "**Q6** Use the data in `df_before_2002` to train a multiple linear regression model, where the runs scored is the target and OBP and SLG are the predictors. Display the summary output.  "
   ]
  },
  {
   "cell_type": "code",
   "execution_count": 9,
   "id": "67d04ad0-d0ae-4a87-ac65-17e984d04b72",
   "metadata": {},
   "outputs": [
    {
     "name": "stdout",
     "output_type": "stream",
     "text": [
      "                            OLS Regression Results                            \n",
      "==============================================================================\n",
      "Dep. Variable:                     RS   R-squared:                       0.930\n",
      "Model:                            OLS   Adj. R-squared:                  0.929\n",
      "Method:                 Least Squares   F-statistic:                     5934.\n",
      "Date:                Fri, 17 Oct 2025   Prob (F-statistic):               0.00\n",
      "Time:                        16:48:10   Log-Likelihood:                -4174.2\n",
      "No. Observations:                 902   AIC:                             8354.\n",
      "Df Residuals:                     899   BIC:                             8369.\n",
      "Df Model:                           2                                         \n",
      "Covariance Type:            nonrobust                                         \n",
      "==============================================================================\n",
      "                 coef    std err          t      P>|t|      [0.025      0.975]\n",
      "------------------------------------------------------------------------------\n",
      "const       -804.6271     18.921    -42.526      0.000    -841.761    -767.493\n",
      "OBP         2737.7680     90.685     30.190      0.000    2559.790    2915.746\n",
      "SLG         1584.9086     42.156     37.597      0.000    1502.174    1667.643\n",
      "==============================================================================\n",
      "Omnibus:                        3.099   Durbin-Watson:                   1.933\n",
      "Prob(Omnibus):                  0.212   Jarque-Bera (JB):                3.106\n",
      "Skew:                           0.143   Prob(JB):                        0.212\n",
      "Kurtosis:                       2.972   Cond. No.                         134.\n",
      "==============================================================================\n",
      "\n",
      "Notes:\n",
      "[1] Standard Errors assume that the covariance matrix of the errors is correctly specified.\n"
     ]
    }
   ],
   "source": [
    "import statsmodels.api as sm\n",
    "\n",
    "# Predictors and target\n",
    "X = df_before_2002[['OBP', 'SLG']]  # predictors\n",
    "y = df_before_2002['RS']            # target\n",
    "\n",
    "# Add a constant term for the intercept\n",
    "X = sm.add_constant(X)\n",
    "\n",
    "# Fit the multiple linear regression model\n",
    "model_RS = sm.OLS(y, X).fit()\n",
    "\n",
    "# Display the summary output\n",
    "print(model_RS.summary())\n"
   ]
  },
  {
   "cell_type": "markdown",
   "id": "2dcd2728-af60-479b-8331-00b768ee8f88",
   "metadata": {},
   "source": [
    "**Q7** Note that the multiple linear regression model can be written as $\\hat{RS}=-804.6271+2737.7680\\times OBP+1584.9086\\times SLG$. If a baseball team's OBP and SLG are 0.311 and 0.405, respectively, how many runs do we expect the team to score?"
   ]
  },
  {
   "cell_type": "code",
   "execution_count": 10,
   "id": "8d42f01b-47d1-449c-b5d1-ad0178b8dc6b",
   "metadata": {},
   "outputs": [
    {
     "name": "stdout",
     "output_type": "stream",
     "text": [
      "Expected Runs Scored: 688.71\n"
     ]
    }
   ],
   "source": [
    "# Regression coefficients\n",
    "intercept = -804.6271\n",
    "coef_OBP = 2737.7680\n",
    "coef_SLG = 1584.9086\n",
    "\n",
    "# Given team stats\n",
    "OBP = 0.311\n",
    "SLG = 0.405\n",
    "\n",
    "# Predict runs\n",
    "predicted_RS = intercept + coef_OBP * OBP + coef_SLG * SLG\n",
    "print(f\"Expected Runs Scored: {predicted_RS:.2f}\")\n",
    "\n"
   ]
  },
  {
   "cell_type": "markdown",
   "id": "b90134e0-a06f-44eb-9fb0-461c6b7c02f3",
   "metadata": {},
   "source": [
    "**Q8** Use the data in `df_before_2002` to train a multiple linear regression model, where the runs allowed is the target and OOBP and OSLG are the predictors. Display the summary output. Because there are missing (i.e., NA) values on the OOBP and OSLG columns, you should drop rows with missing values using `df_before_2002.dropna(subset=[\"OOBP\", \"OSLG\"])`. For instance, to build X_train, use the following code: `X_train = df_before_2002.dropna(subset=[\"OOBP\", \"OSLG\"])[[\"OOBP\", \"OSLG\"]]`."
   ]
  },
  {
   "cell_type": "code",
   "execution_count": 11,
   "id": "0083f211-e7f2-4239-a33a-034159d07d7a",
   "metadata": {},
   "outputs": [
    {
     "name": "stdout",
     "output_type": "stream",
     "text": [
      "                            OLS Regression Results                            \n",
      "==============================================================================\n",
      "Dep. Variable:                     RA   R-squared:                       0.907\n",
      "Model:                            OLS   Adj. R-squared:                  0.905\n",
      "Method:                 Least Squares   F-statistic:                     425.8\n",
      "Date:                Fri, 17 Oct 2025   Prob (F-statistic):           1.16e-45\n",
      "Time:                        16:48:21   Log-Likelihood:                -418.27\n",
      "No. Observations:                  90   AIC:                             842.5\n",
      "Df Residuals:                      87   BIC:                             850.0\n",
      "Df Model:                           2                                         \n",
      "Covariance Type:            nonrobust                                         \n",
      "==============================================================================\n",
      "                 coef    std err          t      P>|t|      [0.025      0.975]\n",
      "------------------------------------------------------------------------------\n",
      "const       -837.3779     60.255    -13.897      0.000    -957.142    -717.614\n",
      "OOBP        2913.5995    291.971      9.979      0.000    2333.276    3493.923\n",
      "OSLG        1514.2860    175.428      8.632      0.000    1165.604    1862.968\n",
      "==============================================================================\n",
      "Omnibus:                        3.836   Durbin-Watson:                   2.160\n",
      "Prob(Omnibus):                  0.147   Jarque-Bera (JB):                3.104\n",
      "Skew:                          -0.392   Prob(JB):                        0.212\n",
      "Kurtosis:                       3.461   Cond. No.                         139.\n",
      "==============================================================================\n",
      "\n",
      "Notes:\n",
      "[1] Standard Errors assume that the covariance matrix of the errors is correctly specified.\n"
     ]
    }
   ],
   "source": [
    "import statsmodels.api as sm\n",
    "\n",
    "# Drop rows with missing values in OOBP or OSLG and select predictors\n",
    "X_train = df_before_2002.dropna(subset=[\"OOBP\", \"OSLG\"])[[\"OOBP\", \"OSLG\"]]\n",
    "\n",
    "# Target variable: Runs Allowed\n",
    "y_train = df_before_2002.dropna(subset=[\"OOBP\", \"OSLG\"])[\"RA\"]\n",
    "\n",
    "# Add a constant term for intercept\n",
    "X_train = sm.add_constant(X_train)\n",
    "\n",
    "# Fit the multiple linear regression model\n",
    "model_RA = sm.OLS(y_train, X_train).fit()\n",
    "\n",
    "# Display the summary output\n",
    "print(model_RA.summary())\n",
    "\n"
   ]
  },
  {
   "cell_type": "markdown",
   "id": "0f8fb63d-3c29-4da5-b5f7-3608007be099",
   "metadata": {},
   "source": [
    "**Q9**. Note that the multiple linear regression model can be written as $\\hat{RA}=-837.3779+2913.5995\\times OOBP+1514.2860\\times OSLG$. If a baseball team's opponents OBP (OOBP) is 0.352 and oppenents SLG (OSLG) is 0.303, how many runs do we expect the team to allow?"
   ]
  },
  {
   "cell_type": "code",
   "execution_count": 12,
   "id": "3bf198e7-4b81-4f6d-be04-2897b7447e69",
   "metadata": {},
   "outputs": [
    {
     "name": "stdout",
     "output_type": "stream",
     "text": [
      "Expected Runs Allowed: 647.04\n"
     ]
    }
   ],
   "source": [
    "# Regression coefficients\n",
    "intercept = -837.3779\n",
    "coef_OOBP = 2913.5995\n",
    "coef_OSLG = 1514.2860\n",
    "\n",
    "# Given opponent stats\n",
    "OOBP = 0.352\n",
    "OSLG = 0.303\n",
    "\n",
    "# Predict runs allowed\n",
    "predicted_RA = intercept + coef_OOBP * OOBP + coef_OSLG * OSLG\n",
    "print(f\"Expected Runs Allowed: {predicted_RA:.2f}\")\n"
   ]
  },
  {
   "cell_type": "markdown",
   "id": "825db799-abb6-41f2-b649-e2b3966d43a0",
   "metadata": {},
   "source": [
    "### Predicting Runs and Wins\n",
    "\n",
    "Finally, we will use team statistics to predict the A's runs and wins in 2002. Assume that the prediction was made before the 2002 season began. The team's OBP, SLG, OOBP and OSLG statistics in 2001 will be used to estimate for 2002."
   ]
  },
  {
   "cell_type": "markdown",
   "id": "4ca2e76b-b267-4b6b-8fff-b636b6847ae0",
   "metadata": {},
   "source": [
    "**Q10** The A's 2001 OBP was 0.345 and SLG was 0.439. How many runs do we expect the team to score in 2002?"
   ]
  },
  {
   "cell_type": "code",
   "execution_count": 13,
   "id": "842ffc1f-582e-496a-a852-76b66fdbcf48",
   "metadata": {},
   "outputs": [
    {
     "name": "stdout",
     "output_type": "stream",
     "text": [
      "Expected Runs Scored in 2002: 835.68\n"
     ]
    }
   ],
   "source": [
    "# Regression coefficients for RS\n",
    "intercept = -804.6271\n",
    "coef_OBP = 2737.7680\n",
    "coef_SLG = 1584.9086\n",
    "\n",
    "# 2001 stats\n",
    "OBP = 0.345\n",
    "SLG = 0.439\n",
    "\n",
    "# Predict runs for 2002\n",
    "predicted_RS_2002 = intercept + coef_OBP * OBP + coef_SLG * SLG\n",
    "print(f\"Expected Runs Scored in 2002: {predicted_RS_2002:.2f}\")\n"
   ]
  },
  {
   "cell_type": "markdown",
   "id": "0f9aacfa-6df0-4ece-8c0f-f91aaa5113d3",
   "metadata": {},
   "source": [
    "**Q11** The A's 2001 OOBP was 0.308 and OSLG was 0.380. How many runs do we expect the team to allow in 2002?"
   ]
  },
  {
   "cell_type": "code",
   "execution_count": 14,
   "id": "018c3a9d-3883-4baa-9158-09e69a02660a",
   "metadata": {},
   "outputs": [
    {
     "name": "stdout",
     "output_type": "stream",
     "text": [
      "Expected Runs Allowed in 2002: 635.44\n"
     ]
    }
   ],
   "source": [
    "# Regression coefficients for RA\n",
    "intercept = -837.3779\n",
    "coef_OOBP = 2913.5995\n",
    "coef_OSLG = 1514.2860\n",
    "\n",
    "# 2001 opponent stats\n",
    "OOBP = 0.308\n",
    "OSLG = 0.380\n",
    "\n",
    "# Predict runs allowed for 2002\n",
    "predicted_RA_2002 = intercept + coef_OOBP * OOBP + coef_OSLG * OSLG\n",
    "print(f\"Expected Runs Allowed in 2002: {predicted_RA_2002:.2f}\")\n"
   ]
  },
  {
   "cell_type": "markdown",
   "id": "9be8f0f7-6af1-42af-bf86-750b483207b7",
   "metadata": {},
   "source": [
    "**Q12** Given the runs scored and runs allowed you obtained above, how many games do we expect the team to win in 2002?"
   ]
  },
  {
   "cell_type": "code",
   "execution_count": 15,
   "id": "c32a41c0-b7e8-41ff-95ad-37d245206a97",
   "metadata": {},
   "outputs": [
    {
     "name": "stdout",
     "output_type": "stream",
     "text": [
      "Expected Wins in 2002: 102.09\n"
     ]
    }
   ],
   "source": [
    "# Predicted RS and RA for 2002\n",
    "RS = 835.89\n",
    "RA = 635.43\n",
    "\n",
    "# Compute run difference\n",
    "RD = RS - RA\n",
    "\n",
    "# Regression coefficients for Wins\n",
    "intercept_wins = 80.8814\n",
    "slope_wins = 0.1058\n",
    "\n",
    "# Predict wins\n",
    "predicted_wins_2002 = intercept_wins + slope_wins * RD\n",
    "print(f\"Expected Wins in 2002: {predicted_wins_2002:.2f}\")\n",
    "\n"
   ]
  },
  {
   "cell_type": "markdown",
   "id": "3df270b5-8087-4295-842a-aeaeddf06233",
   "metadata": {},
   "source": [
    "The A's team statistics in 2002 is displayed below. In fact, the team won 103 games. You can see that by using publicly available data and simple analytics, we can predict very close to what will actually happen."
   ]
  },
  {
   "cell_type": "code",
   "execution_count": 18,
   "id": "127dd5c8-44ea-410d-9bde-533837a33432",
   "metadata": {},
   "outputs": [
    {
     "data": {
      "text/html": [
       "<div>\n",
       "<style scoped>\n",
       "    .dataframe tbody tr th:only-of-type {\n",
       "        vertical-align: middle;\n",
       "    }\n",
       "\n",
       "    .dataframe tbody tr th {\n",
       "        vertical-align: top;\n",
       "    }\n",
       "\n",
       "    .dataframe thead th {\n",
       "        text-align: right;\n",
       "    }\n",
       "</style>\n",
       "<table border=\"1\" class=\"dataframe\">\n",
       "  <thead>\n",
       "    <tr style=\"text-align: right;\">\n",
       "      <th></th>\n",
       "      <th>Team</th>\n",
       "      <th>Year</th>\n",
       "      <th>W</th>\n",
       "      <th>Playoffs</th>\n",
       "      <th>RS</th>\n",
       "      <th>RA</th>\n",
       "      <th>OBP</th>\n",
       "      <th>SLG</th>\n",
       "      <th>OOBP</th>\n",
       "      <th>OSLG</th>\n",
       "    </tr>\n",
       "  </thead>\n",
       "  <tbody>\n",
       "    <tr>\n",
       "      <th>320</th>\n",
       "      <td>OAK</td>\n",
       "      <td>2002</td>\n",
       "      <td>103</td>\n",
       "      <td>1</td>\n",
       "      <td>800</td>\n",
       "      <td>654</td>\n",
       "      <td>0.339</td>\n",
       "      <td>0.432</td>\n",
       "      <td>0.315</td>\n",
       "      <td>0.384</td>\n",
       "    </tr>\n",
       "  </tbody>\n",
       "</table>\n",
       "</div>"
      ],
      "text/plain": [
       "    Team  Year    W  Playoffs   RS   RA    OBP    SLG   OOBP   OSLG\n",
       "320  OAK  2002  103         1  800  654  0.339  0.432  0.315  0.384"
      ]
     },
     "execution_count": 18,
     "metadata": {},
     "output_type": "execute_result"
    }
   ],
   "source": [
    "df.loc[(df[\"Team\"] == \"OAK\")&(df[\"Year\"] == 2002), \n",
    "[\"Team\",\"Year\", \"W\", \"Playoffs\", \"RS\", \"RA\", \"OBP\", \"SLG\", \"OOBP\", \"OSLG\"]]"
   ]
  },
  {
   "cell_type": "code",
   "execution_count": 16,
   "id": "3b15a464-490a-4ddd-86c9-10fed924d9c5",
   "metadata": {},
   "outputs": [
    {
     "data": {
      "image/png": "[encoded data removed]",
      "text/plain": [
       "<Figure size 1200x600 with 2 Axes>"
      ]
     },
     "metadata": {},
     "output_type": "display_data"
    }
   ],
   "source": [
    "import matplotlib.pyplot as plt\n",
    "import numpy as np\n",
    "\n",
    "# Create figure with two sections\n",
    "fig, (ax1, ax2) = plt.subplots(1, 2, figsize=(12, 6), gridspec_kw={'width_ratios': [2, 1]})\n",
    "\n",
    "# Left side: Chart with very thin bars close together\n",
    "categories = ['Predicted Wins', 'Actual Wins']\n",
    "values = [102.09, 103]\n",
    "\n",
    "# Use numpy array for x positions and make bars very thin and close\n",
    "x = np.arange(len(categories))\n",
    "bars = ax1.bar(x, values, color=['#1f77b4', '#2ca02c'], alpha=0.8, width=0.2)  # Very thin bars\n",
    "\n",
    "ax1.set_ylabel('Wins', fontsize=12)\n",
    "ax1.set_title('Oakland 2002: Prediction vs Actual', fontsize=14, fontweight='bold')\n",
    "\n",
    "# Set x-ticks to category names\n",
    "ax1.set_xticks(x)\n",
    "ax1.set_xticklabels(categories)\n",
    "\n",
    "# Add values on top of bars\n",
    "for bar, value in zip(bars, values):\n",
    "    ax1.text(bar.get_x() + bar.get_width()/2, bar.get_height() + 1, \n",
    "            f'{value}', ha='center', va='bottom', fontweight='bold', fontsize=14)\n",
    "\n",
    "ax1.set_ylim(0, 110)\n",
    "ax1.grid(axis='y', alpha=0.3)\n",
    "\n",
    "# Right side: Text \n",
    "ax2.axis('off')\n",
    "\n",
    "text_content = [\n",
    "    \"ANALYSIS HIGHLIGHTS:\\n\",\n",
    "    \"• Prediction: 102.09 wins\\n\",\n",
    "    \"• Actual: 103 wins\\n\", \n",
    "    \"• Accuracy: 99.1%\\n\",\n",
    "    \"\\nKEY FINDINGS:\\n\",\n",
    "    \"• Model near perfect fit\\n\",\n",
    "    \"• Moneyball validated\\n\",\n",
    "    \"• Data beats intuition\\n\",\n",
    "    \"\\nDOWNLOAD TO SEE:\\n\",\n",
    "    \"- Full regression model\\n\"\n",
    "]\n",
    "\n",
    "ax2.text(0.1, 0.95, ''.join(text_content), \n",
    "         transform=ax2.transAxes, fontsize=11, \n",
    "         verticalalignment='top', linespacing=1.0)\n",
    "\n",
    "plt.tight_layout()\n",
    "plt.savefig('moneyball_analysis.png', dpi=300, bbox_inches='tight')\n",
    "plt.show()"
   ]
  },
  {
   "cell_type": "code",
   "execution_count": null,
   "id": "ff9d3fe6-9b32-4d72-9310-48b44fb77f85",
   "metadata": {},
   "outputs": [],
   "source": []
  }
 ],
 "metadata": {
  "kernelspec": {
   "display_name": "Python 3 (ipykernel)",
   "language": "python",
   "name": "python3"
  },
  "language_info": {
   "codemirror_mode": {
    "name": "ipython",
    "version": 3
   },
   "file_extension": ".py",
   "mimetype": "text/x-python",
   "name": "python",
   "nbconvert_exporter": "python",
   "pygments_lexer": "ipython3",
   "version": "3.13.5"
  }
 },
 "nbformat": 4,
 "nbformat_minor": 5
}
